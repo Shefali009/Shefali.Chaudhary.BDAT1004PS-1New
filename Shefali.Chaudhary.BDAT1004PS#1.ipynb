{
 "cells": [
  {
   "cell_type": "markdown",
   "id": "e1adb978",
   "metadata": {},
   "source": [
    "# Problem Set 1 Solutions"
   ]
  },
  {
   "cell_type": "markdown",
   "id": "2632ad5a",
   "metadata": {},
   "source": [
    "### Solution 1: "
   ]
  },
  {
   "cell_type": "code",
   "execution_count": 7,
   "id": "4d527bf8",
   "metadata": {},
   "outputs": [
    {
     "name": "stdout",
     "output_type": "stream",
     "text": [
      "<class 'int'>\n",
      "<class 'float'>\n",
      "<class 'bool'>\n",
      "<class 'str'>\n",
      "<class 'int'>\n",
      "<class 'str'>\n",
      "<class 'str'>\n",
      "<class 'float'>\n",
      "<class 'int'>\n",
      "<class 'set'>\n",
      "<class 'bool'>\n",
      "<class 'float'>\n"
     ]
    }
   ],
   "source": [
    "#1\n",
    "print(type(5))\n",
    "#2\n",
    "print(type(5.0))\n",
    "#3\n",
    "print(type(5 > 1))\n",
    "#4\n",
    "print(type('5'))\n",
    "#5\n",
    "print(type(5 * 2))\n",
    "#6\n",
    "print(type('5' * 2))\n",
    "#7\n",
    "print(type('5' + '2'))\n",
    "#8\n",
    "print(type(5 / 2))\n",
    "#9\n",
    "print(type(5 % 2))\n",
    "#10\n",
    "print(type({5, 2, 1}))\n",
    "#11\n",
    "print(type(5 == 3))\n",
    "#12\n",
    "import math\n",
    "print(type(math.pi))"
   ]
  },
  {
   "cell_type": "markdown",
   "id": "6e428a28",
   "metadata": {},
   "source": [
    "### Solution 2: "
   ]
  },
  {
   "cell_type": "code",
   "execution_count": 150,
   "id": "75c84a8d",
   "metadata": {},
   "outputs": [
    {
     "name": "stdout",
     "output_type": "stream",
     "text": [
      "34\n",
      "\n",
      "\n",
      "True\n",
      "\n",
      "\n",
      "Supercalifragilisticexpialidocious\n",
      "Bababadalgharaghtakamminarronnkonn\n",
      "\n",
      "\n",
      "Bartok\n",
      "Buxtehude\n"
     ]
    }
   ],
   "source": [
    "#2.a\n",
    "s = 'Supercalifragilisticexpialidocious'\n",
    "print(len(s))\n",
    "\n",
    "print('\\n')\n",
    "\n",
    "#2.b\n",
    "print('ice' in s)\n",
    "\n",
    "print('\\n')\n",
    "\n",
    "#2.c\n",
    "lst = ['Supercalifragilisticexpialidocious', 'Honorificabilitudinitatibus', 'Bababadalgharaghtakamminarronnkonn']\n",
    "for i in range(len(lst)):\n",
    "    if (len(lst[i]) == max(len(lst[0]),len(lst[1]),len(lst[2]))):\n",
    "            print(lst[i])\n",
    "\n",
    "print('\\n')\n",
    "      \n",
    "#2.d\n",
    "lst2 = ['Berlioz', 'Borodin', 'Brian', 'Bartok', 'Bellini', 'Buxtehude', 'Bernstein']\n",
    "lst2.sort()\n",
    "print(lst2[0]) #1st composer in dictionary order\n",
    "print(lst2[len(lst2)-1]) #Last composer in dictionary order\n"
   ]
  },
  {
   "cell_type": "markdown",
   "id": "3bec93d0",
   "metadata": {},
   "source": [
    "### Solution 3:"
   ]
  },
  {
   "cell_type": "code",
   "execution_count": 11,
   "id": "ceb773a9",
   "metadata": {},
   "outputs": [
    {
     "data": {
      "text/plain": [
       "1.7320508075688772"
      ]
     },
     "execution_count": 11,
     "metadata": {},
     "output_type": "execute_result"
    }
   ],
   "source": [
    "import math\n",
    "def triangleArea(a,b,c):\n",
    "    ' returns the area of the triangle by Heron\\'s formula'\n",
    "    s = (a+b+c)/2\n",
    "    area = math.sqrt(s*(s-a)*(s-b)*(s-c))\n",
    "    return area\n",
    "\n",
    "triangleArea(2,2,2)\n",
    "    "
   ]
  },
  {
   "cell_type": "markdown",
   "id": "456e0fcd",
   "metadata": {},
   "source": [
    "### Solution 4:"
   ]
  },
  {
   "cell_type": "code",
   "execution_count": 42,
   "id": "db4a90d5",
   "metadata": {},
   "outputs": [
    {
     "name": "stdout",
     "output_type": "stream",
     "text": [
      "Test data:\n",
      "Enter the number of elements to be stored in the array: 5\n",
      "Input 5 elements in the array\n",
      "Element 0 : 25\n",
      "Element 1 : 47\n",
      "Element 2 : 42\n",
      "Element 3 : 56\n",
      "Element 4 : 32\n",
      "\n",
      "The Even elements are:  [42, 56, 32]\n",
      "The Odd elements are:  [25, 47]\n"
     ]
    }
   ],
   "source": [
    "print(\"Test data:\")\n",
    "Count = eval(input(\"Enter the number of elements to be stored in the array: \"))\n",
    "print('Input {:d} elements in the array'.format(Count))\n",
    "Elements = []\n",
    "for i in range(Count):\n",
    "    Element = eval(input('Element {:d} : '.format(i)))   \n",
    "    Elements.append(Element)\n",
    "even =[]\n",
    "odd = []\n",
    "for j in range(len(Elements)):\n",
    "    num = Elements[j]\n",
    "    if(Elements[j] % 2 == 0):\n",
    "        even.append(num)\n",
    "    else:\n",
    "        odd.append(num)\n",
    "\n",
    "print(\"\\nThe Even elements are: \",even)\n",
    "print(\"The Odd elements are: \",odd)\n",
    "    \n",
    "    \n",
    "\n",
    "    "
   ]
  },
  {
   "cell_type": "markdown",
   "id": "43279a97",
   "metadata": {},
   "source": [
    "### Solution 5:"
   ]
  },
  {
   "cell_type": "code",
   "execution_count": 48,
   "id": "de101deb",
   "metadata": {},
   "outputs": [
    {
     "name": "stdout",
     "output_type": "stream",
     "text": [
      "True\n",
      "False\n",
      "\n",
      "\n",
      "False\n"
     ]
    }
   ],
   "source": [
    "#5.a\n",
    "def inside(x,y,x1,y1,x2,y2):\n",
    "    if((x>=x1 and y>=y1) and (x<=x2 and y<=y2)):\n",
    "        return True\n",
    "    else:\n",
    "        return False\n",
    "    \n",
    "print(inside(1,1,0,0,2,3))\n",
    "print(inside (-1,-1,0,0,2,3))\n",
    "print('\\n')\n",
    "\n",
    "#5.b\n",
    "print(inside(1,1,0.3,0.5,1.1,0.7) and inside(1,1,0.5,0.2,1.1,2))\n"
   ]
  },
  {
   "cell_type": "markdown",
   "id": "ee3b84cf",
   "metadata": {},
   "source": [
    "### Solution 6:"
   ]
  },
  {
   "cell_type": "code",
   "execution_count": 55,
   "id": "3985d89e",
   "metadata": {},
   "outputs": [
    {
     "name": "stdout",
     "output_type": "stream",
     "text": [
      "appyhay\n",
      "enterway\n"
     ]
    }
   ],
   "source": [
    "def pig(word):\n",
    "    if(word[0] in 'aeiouAEIOU'):\n",
    "        print((word+'way').lower())\n",
    "    else:\n",
    "        print((word[1:]+word[0]+'ay').lower())\n",
    "    \n",
    "pig('Happy')\n",
    "pig('Enter')\n"
   ]
  },
  {
   "cell_type": "markdown",
   "id": "32f35d88",
   "metadata": {},
   "source": [
    "### Solution 7:"
   ]
  },
  {
   "cell_type": "code",
   "execution_count": 19,
   "id": "ffb7a1c7",
   "metadata": {},
   "outputs": [
    {
     "name": "stdout",
     "output_type": "stream",
     "text": [
      "There are  15  pateints of blood type A.\n",
      "There is one pateint of blood type B.\n",
      "There are  13  pateints of blood type AB.\n",
      "There are  15  pateints of blood type O.\n",
      "There are no pateints of blood type OO.\n"
     ]
    }
   ],
   "source": [
    "def bldcount(filename):\n",
    "    name = open(filename)\n",
    "    bloodtypes = name.read()\n",
    "    name.close()\n",
    "    allTypes = bloodtypes.split()\n",
    "    types = ['A','B','AB','O','OO']\n",
    "    for b in types:\n",
    "        if(allTypes.count(b)==0):\n",
    "                print(\"There are no pateints of blood type \"+b+\".\")\n",
    "        elif(allTypes.count(b)==1):\n",
    "                print(\"There is one pateint of blood type \"+b+\".\")\n",
    "        else:\n",
    "                print(\"There are \",allTypes.count(b),\" pateints of blood type \"+b+\".\")\n",
    "            \n",
    "        \n",
    "    \n",
    "bldcount('bloodtype1.txt')"
   ]
  },
  {
   "cell_type": "markdown",
   "id": "9cd26691",
   "metadata": {},
   "source": [
    "### Solution 8\n"
   ]
  },
  {
   "cell_type": "code",
   "execution_count": 42,
   "id": "5fa6d521",
   "metadata": {},
   "outputs": [
    {
     "name": "stdout",
     "output_type": "stream",
     "text": [
      "122.96544\n",
      "1.241401\n"
     ]
    }
   ],
   "source": [
    "def curconv(curr, amount):\n",
    "    currencies =  open('currencies.txt')\n",
    "    lines = currencies.readlines()\n",
    "    currencies.close()\n",
    "    finalValues = {}\n",
    "    for line in lines:\n",
    "        values = line.split()\n",
    "        finalValues[values[0]] = eval(values[1])\n",
    "    print(finalValues[curr]*amount)\n",
    "\n",
    "    \n",
    "curconv('EUR',100)\n",
    "curconv('JPY',100)"
   ]
  },
  {
   "cell_type": "markdown",
   "id": "e4ec982c",
   "metadata": {},
   "source": [
    "### Solution 9"
   ]
  },
  {
   "cell_type": "code",
   "execution_count": 45,
   "id": "0aef7dc4",
   "metadata": {},
   "outputs": [
    {
     "name": "stdout",
     "output_type": "stream",
     "text": [
      "Type Error\n",
      "Index Error\n",
      "Value Error\n",
      "Name Error\n",
      "IO Error\n"
     ]
    }
   ],
   "source": [
    "#Trying to add incompatible variables, as in adding 6 + ‘a’\n",
    "print('Type Error')\n",
    "#Referring to the 12th item of a list that has only 10 items\n",
    "print('Index Error')\n",
    "#Using a value that is out of range for a function’s input, such as calling math.sqrt(-1.0)\n",
    "print('Value Error')\n",
    "#Using an undeclared variable, such as print(x) when x has not been defined\n",
    "print('Name Error')\n",
    "#Trying to open a file that does not exist, such as mistyping the file name or looking in the wrong directory. \n",
    "print('IO Error')"
   ]
  },
  {
   "cell_type": "markdown",
   "id": "9c8c3f03",
   "metadata": {},
   "source": [
    "### Solution 10"
   ]
  },
  {
   "cell_type": "code",
   "execution_count": 148,
   "id": "f0098bc7",
   "metadata": {},
   "outputs": [
    {
     "name": "stdout",
     "output_type": "stream",
     "text": [
      "[1, 1, 1, 3, 5, 1, 1, 2, 1, 0, 1, 0, 1, 2, 4, 0, 1, 2, 0, 3, 1, 0, 1, 1, 0, 0]\n",
      "[1, 0, 0, 0, 1, 0, 0, 0, 0, 0, 0, 1, 0, 0, 0, 2, 0, 0, 0, 0, 0, 0, 0, 0, 0, 0]\n"
     ]
    }
   ],
   "source": [
    "letters = 'abcdefghijklmnopqrstuvwxyz'\n",
    "def frequencies(word): \n",
    "    word = word.lower()\n",
    "    counter = {}\n",
    "    for char in word:\n",
    "        if(char in letters):\n",
    "            if(char in counter):\n",
    "                counter[char] +=1\n",
    "            else:\n",
    "                counter[char] = 1\n",
    "    for char in letters:\n",
    "        if(char not in counter):\n",
    "            counter[char] = 0\n",
    "    list1 = sorted(counter.items())\n",
    "    list2 = []\n",
    "    for l in list1:\n",
    "        list2.append(l[1])\n",
    "    print(list2)\n",
    "    \n",
    "frequencies('The quick red fox got bored and went home.')\n",
    "frequencies('apple')"
   ]
  }
 ],
 "metadata": {
  "kernelspec": {
   "display_name": "Python 3 (ipykernel)",
   "language": "python",
   "name": "python3"
  },
  "language_info": {
   "codemirror_mode": {
    "name": "ipython",
    "version": 3
   },
   "file_extension": ".py",
   "mimetype": "text/x-python",
   "name": "python",
   "nbconvert_exporter": "python",
   "pygments_lexer": "ipython3",
   "version": "3.9.12"
  }
 },
 "nbformat": 4,
 "nbformat_minor": 5
}
